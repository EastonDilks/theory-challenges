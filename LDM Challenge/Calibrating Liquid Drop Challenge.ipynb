{
 "cells": [
  {
   "cell_type": "markdown",
   "id": "f89d0ce2",
   "metadata": {},
   "source": [
    "# Calibrating the Liquid Drop Model Challenge"
   ]
  },
  {
   "cell_type": "markdown",
   "id": "434fe4d9",
   "metadata": {},
   "source": [
    "The purpose of this challenge is for you to calibrate the Liquid Drop Model https://en.wikipedia.org/wiki/Semi-empirical_mass_formula.\n",
    "\n",
    "If you have never done anything with Python, we suggest you take a look at this: https://www.youtube.com/watch?v=AJFen_Z3mWM&t=1524s. Also, ChatGPT can be of much help to start learning how to code well: https://chatgpt.com/\n",
    "\n",
    "Your task are to:\n",
    "\n",
    "*Non-Bayesian way:\n",
    "- Import the data from the AME 2016 table (included in the github). We are only using nuclei above A=16 to avoid light nuclei where the LDM fails particularly. Perform a curve fit using the built in functions from python (https://docs.scipy.org/doc/scipy/reference/generated/scipy.optimize.curve_fit.html) and take note of the reported uncertainties in the parameters. \n",
    "\n",
    "- Construct a cost function as the sum of the squares of the residuals between your model predictions and the experimental data.\n",
    "\n",
    "- Numerically minimize this cost function as a function of the four Liquid Drop Model parameters (search on google for scipy minimize function). The optimal parameters will come out of the minimization. \n",
    "\n",
    "- Make a plot of the residual of your calibrated model and the experimental data. Notice anything interesting pattern? \n",
    "\n",
    "\n",
    "\n",
    "*Bayesian way:\n",
    "- Make a model calibration using the Bayesian formalism that is defined in the acompaning file \"# Guided Example Bayesian calibration\". For the error, use your estimation from the previous point (the model error in this case is much smaller than the actual experimental uncertainties). \n",
    "\n",
    "- Plot the corner plot posterior as well as the model values on the Binding Energy per nucleon for the Calcium chain up to 60Ca including the available experimental data.\n",
    "\n",
    "- What would be the results if you have used in the calibration the Binding Energy per nucleon instead of the total Binding Energy?\n",
    "\n",
    "- Bonus: Find the experimental error in the masses and repeat the calibration using only experimental errors. This should give a good demonstration on the dangers of not taking into account model errors. \n"
   ]
  },
  {
   "cell_type": "code",
   "execution_count": 2,
   "id": "8a846edb",
   "metadata": {},
   "outputs": [],
   "source": [
    "import numpy as np"
   ]
  },
  {
   "cell_type": "code",
   "execution_count": 3,
   "id": "b677f0db",
   "metadata": {},
   "outputs": [],
   "source": [
    "data = np.loadtxt('Masses2016.txt', skiprows=1)\n",
    "\n",
    "def LDM(params,x):\n",
    "    #x = (n,z)\n",
    "    #params= parameters (volume, surface, asymmetry, Coulomb)\n",
    "    \n",
    "    n=x[0]\n",
    "    z=x[1]\n",
    "    \n",
    "    return params[0]*(n+z) - params[1]*(n+z)**(2/3) - params[2]*((n-z)**2/(n+z)) - params[3]*((z**2)/((n+z)**(1/3)))"
   ]
  }
 ],
 "metadata": {
  "kernelspec": {
   "display_name": "Python 3 (ipykernel)",
   "language": "python",
   "name": "python3"
  },
  "language_info": {
   "codemirror_mode": {
    "name": "ipython",
    "version": 3
   },
   "file_extension": ".py",
   "mimetype": "text/x-python",
   "name": "python",
   "nbconvert_exporter": "python",
   "pygments_lexer": "ipython3",
   "version": "3.10.6"
  }
 },
 "nbformat": 4,
 "nbformat_minor": 5
}
