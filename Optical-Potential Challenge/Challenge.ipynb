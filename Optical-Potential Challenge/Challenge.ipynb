{
 "cells": [
  {
   "cell_type": "markdown",
   "id": "f89d0ce2",
   "metadata": {},
   "source": [
    "# Reaction Cross Section Challenge"
   ]
  },
  {
   "cell_type": "markdown",
   "id": "434fe4d9",
   "metadata": {},
   "source": [
    "Notebook adapted from the ROSE challenges made by Daniel Odell and Pablo Giuliani: https://indico.cern.ch/event/1223721/contributions/5394829/\n",
    "\n",
    "The purpose of this challenge is to extract information of a nucleus through the scattering cross section of particles that interact with it (in this case, neutrons). We will use an optical potential to model such interaction. \n",
    "\n",
    "The acompanying re-scaled Schrodinger equation is:\n",
    "$$\n",
    "\\left[ -\\frac{d^2}{ds^2} + \\frac{\\ell(\\ell+1)}{s^2} + U(s,\\omega,k) - 1 \\right] \\phi(s) = 0~,\n",
    "$$\n",
    "\n",
    "\n",
    "where\n",
    "\n",
    "$$\n",
    "s\\equiv k r~,\n",
    "$$\n",
    "\n",
    "where $k$ is the center-of-mass momentum and $r$ is the relative separation, and\n",
    "\n",
    "$$\n",
    "U(s,\\omega,k) \\equiv \\frac{2\\mu}{\\hbar k^2}V(s/k,\\omega)~.\n",
    "$$.\n",
    "\n",
    "We use the optical potential:\n",
    "\n",
    "$$\n",
    "    \\omega= \\{V_v,W_v,W_d,R,a\\},\n",
    "\n",
    "$$\n",
    "\n",
    "\n",
    "$$\n",
    "    \\begin{aligned}\n",
    "      &V(r,\\omega) =-V_v f_\\text{WS}(r,R,a) - iW_v f_\\text{WS}(r,R,a) \\\\\n",
    "      &-i4a_dW_d \\frac{d}{dr}f_\\text{WS}(r,R,a),\n",
    "    \\end{aligned}\n",
    "$$\n",
    "where the Woods-Saxon term is defined as:\n",
    "\\begin{equation}\n",
    "    f_\\text{WS}(r,R,a) = \\Big[1+\\text{exp}\\Big( \\frac{r-R}{a}\\Big)  \\Big]^{-1}.\n",
    "\\end{equation}\n",
    "\n",
    "It contains three terms, a real volume interaction proportional to $V_v$, an imaginary volume interaction proportional to $W_v$, and an imaginary surface interaction proportional to $W_d$.\n",
    "\n",
    "The Schrodinger equation must be solver for various values of $l$ up to some value $L_\\text{max}$. Every solution is then compared to the asymptotic solutuions to Schrodinger equation in the abscence of a short range potential:\n",
    "$$\n",
    "    \\phi(s)_{s\\rightarrow \\infty} \\propto e^{i\\delta_\\ell}\\Big(\\text{cos}\\delta_\\ell\\  F_\\ell(0,s)+\\text{sin}\\delta_\\ell \\ G_\\ell(0,s) \\Big).\n",
    "$$\n",
    "\n",
    "that allows us to extract the phase shifts from the following equations:\n",
    "$$\n",
    " e^{2i\\delta_\\ell} =\\frac{H^-_\\ell(a)-aR_\\ell H'^{-}_\\ell(a)}{H^{+}_\\ell(a)-aR_\\ell H'^{+}_\\ell(a)},\n",
    "$$\n",
    "\n",
    "with:\n",
    "\n",
    "$$\n",
    "H^{\\pm}(s)\\equiv G_\\ell(0,s)\\pm iF_\\ell(0,s)\n",
    "$$\n",
    "\n",
    "and the matching value at the matching radius defined as:\n",
    "\n",
    "$$\n",
    " R_\\ell\\equiv \\frac{1}{a}\\frac{\\phi(a)}{\\phi'(a)}.\n",
    "$$\n",
    "\n",
    "Once the phase shifts have been computed, we can obtain the amplitude:\n",
    "$$\n",
    "    f_n(\\theta) = \\frac{1}{2ik}\\sum_{\\ell=0}^{L_\\text{max}}(2\\ell+1)P_\\ell(\\text{cos}\\theta)\\big(e^{2i\\delta_\\ell}-1 \\big),\n",
    "$$\n",
    "\n",
    "from which the differential cross section is defined:\n",
    "\n",
    "$$\n",
    "   \\frac{d\\sigma}{d\\Omega}(\\theta) = |f_n(\\theta)|^2.\n",
    "$$\n",
    "\n",
    "Your tasks are to:\n",
    "\n"
   ]
  },
  {
   "cell_type": "code",
   "execution_count": 2,
   "id": "8a846edb",
   "metadata": {},
   "outputs": [],
   "source": [
    "import numpy as np"
   ]
  }
 ],
 "metadata": {
  "kernelspec": {
   "display_name": "Python 3 (ipykernel)",
   "language": "python",
   "name": "python3"
  },
  "language_info": {
   "codemirror_mode": {
    "name": "ipython",
    "version": 3
   },
   "file_extension": ".py",
   "mimetype": "text/x-python",
   "name": "python",
   "nbconvert_exporter": "python",
   "pygments_lexer": "ipython3",
   "version": "3.10.6"
  }
 },
 "nbformat": 4,
 "nbformat_minor": 5
}
